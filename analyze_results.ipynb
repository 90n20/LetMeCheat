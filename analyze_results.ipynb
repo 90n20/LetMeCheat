{
 "cells": [
  {
   "cell_type": "code",
   "execution_count": 1,
   "metadata": {},
   "outputs": [
    {
     "data": {
      "text/html": [
       "<div>\n",
       "<style scoped>\n",
       "    .dataframe tbody tr th:only-of-type {\n",
       "        vertical-align: middle;\n",
       "    }\n",
       "\n",
       "    .dataframe tbody tr th {\n",
       "        vertical-align: top;\n",
       "    }\n",
       "\n",
       "    .dataframe thead th {\n",
       "        text-align: right;\n",
       "    }\n",
       "</style>\n",
       "<table border=\"1\" class=\"dataframe\">\n",
       "  <thead>\n",
       "    <tr style=\"text-align: right;\">\n",
       "      <th></th>\n",
       "      <th>entropy</th>\n",
       "      <th>encryption</th>\n",
       "      <th>packer</th>\n",
       "      <th>suspicious imports</th>\n",
       "      <th>unknown imports</th>\n",
       "      <th>vt hits</th>\n",
       "      <th>S(Sample)</th>\n",
       "    </tr>\n",
       "  </thead>\n",
       "  <tbody>\n",
       "    <tr>\n",
       "      <th>count</th>\n",
       "      <td>23045.000000</td>\n",
       "      <td>23045.000000</td>\n",
       "      <td>23045.000000</td>\n",
       "      <td>23045.000000</td>\n",
       "      <td>23045.000000</td>\n",
       "      <td>21343.000000</td>\n",
       "      <td>23045.000000</td>\n",
       "    </tr>\n",
       "    <tr>\n",
       "      <th>mean</th>\n",
       "      <td>6.320872</td>\n",
       "      <td>0.633239</td>\n",
       "      <td>0.872727</td>\n",
       "      <td>6.862660</td>\n",
       "      <td>0.045216</td>\n",
       "      <td>8.073373</td>\n",
       "      <td>2.941536</td>\n",
       "    </tr>\n",
       "    <tr>\n",
       "      <th>std</th>\n",
       "      <td>1.188331</td>\n",
       "      <td>0.481931</td>\n",
       "      <td>0.333285</td>\n",
       "      <td>7.797322</td>\n",
       "      <td>0.207782</td>\n",
       "      <td>11.742435</td>\n",
       "      <td>0.961091</td>\n",
       "    </tr>\n",
       "    <tr>\n",
       "      <th>min</th>\n",
       "      <td>0.307754</td>\n",
       "      <td>0.000000</td>\n",
       "      <td>0.000000</td>\n",
       "      <td>0.000000</td>\n",
       "      <td>0.000000</td>\n",
       "      <td>0.000000</td>\n",
       "      <td>0.250000</td>\n",
       "    </tr>\n",
       "    <tr>\n",
       "      <th>25%</th>\n",
       "      <td>5.539176</td>\n",
       "      <td>0.000000</td>\n",
       "      <td>1.000000</td>\n",
       "      <td>0.000000</td>\n",
       "      <td>0.000000</td>\n",
       "      <td>0.000000</td>\n",
       "      <td>2.196375</td>\n",
       "    </tr>\n",
       "    <tr>\n",
       "      <th>50%</th>\n",
       "      <td>6.361192</td>\n",
       "      <td>1.000000</td>\n",
       "      <td>1.000000</td>\n",
       "      <td>4.000000</td>\n",
       "      <td>0.000000</td>\n",
       "      <td>2.000000</td>\n",
       "      <td>3.000000</td>\n",
       "    </tr>\n",
       "    <tr>\n",
       "      <th>75%</th>\n",
       "      <td>7.344716</td>\n",
       "      <td>1.000000</td>\n",
       "      <td>1.000000</td>\n",
       "      <td>11.000000</td>\n",
       "      <td>0.000000</td>\n",
       "      <td>12.000000</td>\n",
       "      <td>3.500000</td>\n",
       "    </tr>\n",
       "    <tr>\n",
       "      <th>max</th>\n",
       "      <td>7.999897</td>\n",
       "      <td>1.000000</td>\n",
       "      <td>1.000000</td>\n",
       "      <td>54.000000</td>\n",
       "      <td>1.000000</td>\n",
       "      <td>60.000000</td>\n",
       "      <td>6.242447</td>\n",
       "    </tr>\n",
       "  </tbody>\n",
       "</table>\n",
       "</div>"
      ],
      "text/plain": [
       "            entropy    encryption        packer  suspicious imports  \\\n",
       "count  23045.000000  23045.000000  23045.000000        23045.000000   \n",
       "mean       6.320872      0.633239      0.872727            6.862660   \n",
       "std        1.188331      0.481931      0.333285            7.797322   \n",
       "min        0.307754      0.000000      0.000000            0.000000   \n",
       "25%        5.539176      0.000000      1.000000            0.000000   \n",
       "50%        6.361192      1.000000      1.000000            4.000000   \n",
       "75%        7.344716      1.000000      1.000000           11.000000   \n",
       "max        7.999897      1.000000      1.000000           54.000000   \n",
       "\n",
       "       unknown imports       vt hits     S(Sample)  \n",
       "count     23045.000000  21343.000000  23045.000000  \n",
       "mean          0.045216      8.073373      2.941536  \n",
       "std           0.207782     11.742435      0.961091  \n",
       "min           0.000000      0.000000      0.250000  \n",
       "25%           0.000000      0.000000      2.196375  \n",
       "50%           0.000000      2.000000      3.000000  \n",
       "75%           0.000000     12.000000      3.500000  \n",
       "max           1.000000     60.000000      6.242447  "
      ]
     },
     "execution_count": 1,
     "metadata": {},
     "output_type": "execute_result"
    }
   ],
   "source": [
    "import pandas as pd\n",
    "import numpy as np\n",
    "import matplotlib.pyplot as plt\n",
    "from matplotlib.ticker import MaxNLocator\n",
    "import seaborn as sns; sns.set()\n",
    "from matplotlib.axes._axes import _log as matplotlib_axes_logger\n",
    "matplotlib_axes_logger.setLevel('ERROR')\n",
    "df = pd.read_csv('samples_analyzed.csv')\n",
    "\n",
    "#drop duplicates\n",
    "df = df.drop_duplicates(subset='sha256', keep=\"first\")\n",
    "\n",
    "#change column name to a more \"readable\" format\n",
    "df.rename(columns={'sha256':'sha256','entropy':'entropy', 'encryption_detected':'encryption', 'packer_detected':'packer',\n",
    "                         'suspect_imported_functions':'suspicious imports', 'unknown_imported_functions':'unknown imports',\n",
    "                         'vt_hits':'vt hits', 'final_score':'S(Sample)'}, \n",
    "                 inplace=True)\n",
    "\n",
    "#dataset statistics\n",
    "df.describe()"
   ]
  },
  {
   "cell_type": "code",
   "execution_count": 2,
   "metadata": {},
   "outputs": [
    {
     "data": {
      "image/png": "[encoded data removed]",
      "text/plain": [
       "<Figure size 432x288 with 1 Axes>"
      ]
     },
     "metadata": {},
     "output_type": "display_data"
    }
   ],
   "source": [
    "#plot graphics\n",
    "\n",
    "fig, ax = plt.subplots()\n",
    "df.plot.scatter(x='suspicious imports', y='S(Sample)', ax=ax)\n",
    "ax.set_ylabel(\"$S(sample)$\")\n",
    "ax.set_xlabel(\"$S_i$\")\n",
    "plt.show()"
   ]
  },
  {
   "cell_type": "code",
   "execution_count": 3,
   "metadata": {},
   "outputs": [
    {
     "data": {
      "image/png": "[encoded data removed]",
      "text/plain": [
       "<Figure size 432x288 with 1 Axes>"
      ]
     },
     "metadata": {},
     "output_type": "display_data"
    }
   ],
   "source": [
    "fig, ax = plt.subplots()\n",
    "df.plot.scatter(x='unknown imports', y='S(Sample)', ax=ax);\n",
    "ax.set_ylabel(\"$S(sample)$\")\n",
    "ax.set_xlabel(\"$S_{ui}$\")\n",
    "plt.xticks(range(0,2))\n",
    "plt.show()"
   ]
  },
  {
   "cell_type": "code",
   "execution_count": 4,
   "metadata": {},
   "outputs": [
    {
     "data": {
      "image/png": "[encoded data removed]",
      "text/plain": [
       "<Figure size 432x288 with 1 Axes>"
      ]
     },
     "metadata": {},
     "output_type": "display_data"
    }
   ],
   "source": [
    "fig, ax = plt.subplots()\n",
    "df.plot.scatter(x='entropy', y='S(Sample)', ax=ax);\n",
    "ax.set_ylabel(\"$S(sample)$\")\n",
    "ax.set_xlabel(\"$S_{e}$\")\n",
    "plt.xticks(range(0,9))\n",
    "plt.show()"
   ]
  },
  {
   "cell_type": "code",
   "execution_count": 5,
   "metadata": {},
   "outputs": [
    {
     "data": {
      "image/png": "[encoded data removed]",
      "text/plain": [
       "<Figure size 432x288 with 1 Axes>"
      ]
     },
     "metadata": {},
     "output_type": "display_data"
    }
   ],
   "source": [
    "fig, ax = plt.subplots()\n",
    "df.plot.scatter(x='encryption', y='S(Sample)', ax=ax);\n",
    "ax.set_ylabel(\"$S(sample)$\")\n",
    "ax.set_xlabel(\"$S_{enc}$\")\n",
    "plt.xticks(range(0,2))\n",
    "plt.show()"
   ]
  },
  {
   "cell_type": "code",
   "execution_count": 6,
   "metadata": {},
   "outputs": [
    {
     "data": {
      "image/png": "[encoded data removed]",
      "text/plain": [
       "<Figure size 432x288 with 1 Axes>"
      ]
     },
     "metadata": {},
     "output_type": "display_data"
    }
   ],
   "source": [
    "fig, ax = plt.subplots()\n",
    "df.dropna(subset=['vt hits']).plot.scatter(x='vt hits', y='S(Sample)', ax=ax);\n",
    "ax.set_ylabel(\"$S(sample)$\")\n",
    "ax.set_xlabel(\"$S_{vt}$\")\n",
    "plt.show()"
   ]
  },
  {
   "cell_type": "code",
   "execution_count": 7,
   "metadata": {},
   "outputs": [
    {
     "data": {
      "image/png": "[encoded data removed]",
      "text/plain": [
       "<Figure size 432x288 with 1 Axes>"
      ]
     },
     "metadata": {},
     "output_type": "display_data"
    }
   ],
   "source": [
    "fig, ax = plt.subplots()\n",
    "df.plot.scatter(x='packer', y='S(Sample)', ax=ax);\n",
    "ax.set_ylabel(\"$S(sample)$\")\n",
    "ax.set_xlabel(\"$S_{peid}$\")\n",
    "plt.xticks(range(0,2))\n",
    "plt.show()"
   ]
  },
  {
   "cell_type": "code",
   "execution_count": 8,
   "metadata": {},
   "outputs": [
    {
     "data": {
      "text/plain": [
       "4183"
      ]
     },
     "execution_count": 8,
     "metadata": {},
     "output_type": "execute_result"
    }
   ],
   "source": [
    "filteredDF = df[(df['entropy'] > 6) & (df['suspicious imports'] == 0) ]\n",
    "filteredDF.count()[0]"
   ]
  },
  {
   "cell_type": "code",
   "execution_count": 9,
   "metadata": {},
   "outputs": [
    {
     "data": {
      "text/plain": [
       "3682"
      ]
     },
     "execution_count": 9,
     "metadata": {},
     "output_type": "execute_result"
    }
   ],
   "source": [
    "df[(df['S(Sample)']>4)].count()[0]"
   ]
  },
  {
   "cell_type": "code",
   "execution_count": 10,
   "metadata": {},
   "outputs": [
    {
     "data": {
      "text/plain": [
       "391"
      ]
     },
     "execution_count": 10,
     "metadata": {},
     "output_type": "execute_result"
    }
   ],
   "source": [
    "df[(df['S(Sample)']>5)].count()[0]"
   ]
  },
  {
   "cell_type": "code",
   "execution_count": 11,
   "metadata": {},
   "outputs": [
    {
     "data": {
      "text/plain": [
       "20112"
      ]
     },
     "execution_count": 11,
     "metadata": {},
     "output_type": "execute_result"
    }
   ],
   "source": [
    "df[(df['packer']==1)].count()[0]"
   ]
  },
  {
   "cell_type": "code",
   "execution_count": 12,
   "metadata": {},
   "outputs": [
    {
     "data": {
      "text/plain": [
       "7403"
      ]
     },
     "execution_count": 12,
     "metadata": {},
     "output_type": "execute_result"
    }
   ],
   "source": [
    "df[(df['vt hits']>5)].count()[0]"
   ]
  },
  {
   "cell_type": "code",
   "execution_count": 13,
   "metadata": {},
   "outputs": [
    {
     "data": {
      "text/plain": [
       "14053"
      ]
     },
     "execution_count": 13,
     "metadata": {},
     "output_type": "execute_result"
    }
   ],
   "source": [
    "df[(df['entropy']>6)].count()[0]"
   ]
  },
  {
   "cell_type": "code",
   "execution_count": 14,
   "metadata": {},
   "outputs": [
    {
     "data": {
      "text/plain": [
       "14593"
      ]
     },
     "execution_count": 14,
     "metadata": {},
     "output_type": "execute_result"
    }
   ],
   "source": [
    "df[(df['encryption']==1)].count()[0]"
   ]
  },
  {
   "cell_type": "code",
   "execution_count": 15,
   "metadata": {},
   "outputs": [
    {
     "data": {
      "text/plain": [
       "11523"
      ]
     },
     "execution_count": 15,
     "metadata": {},
     "output_type": "execute_result"
    }
   ],
   "source": [
    "df[(df['entropy']>=6.361192)].count()[0]"
   ]
  },
  {
   "cell_type": "code",
   "execution_count": 16,
   "metadata": {},
   "outputs": [
    {
     "data": {
      "text/plain": [
       "1042"
      ]
     },
     "execution_count": 16,
     "metadata": {},
     "output_type": "execute_result"
    }
   ],
   "source": [
    "df[(df['unknown imports']>0)].count()[0]"
   ]
  },
  {
   "cell_type": "code",
   "execution_count": 17,
   "metadata": {},
   "outputs": [
    {
     "data": {
      "text/plain": [
       "32"
      ]
     },
     "execution_count": 17,
     "metadata": {},
     "output_type": "execute_result"
    }
   ],
   "source": [
    "df[(df['S(Sample)']==0.250000)].count()[0]"
   ]
  },
  {
   "cell_type": "code",
   "execution_count": 18,
   "metadata": {},
   "outputs": [
    {
     "data": {
      "text/html": [
       "<div>\n",
       "<style scoped>\n",
       "    .dataframe tbody tr th:only-of-type {\n",
       "        vertical-align: middle;\n",
       "    }\n",
       "\n",
       "    .dataframe tbody tr th {\n",
       "        vertical-align: top;\n",
       "    }\n",
       "\n",
       "    .dataframe thead th {\n",
       "        text-align: right;\n",
       "    }\n",
       "</style>\n",
       "<table border=\"1\" class=\"dataframe\">\n",
       "  <thead>\n",
       "    <tr style=\"text-align: right;\">\n",
       "      <th></th>\n",
       "      <th>sha256</th>\n",
       "      <th>entropy</th>\n",
       "      <th>encryption</th>\n",
       "      <th>packer</th>\n",
       "      <th>suspicious imports</th>\n",
       "      <th>unknown imports</th>\n",
       "      <th>vt hits</th>\n",
       "      <th>S(Sample)</th>\n",
       "    </tr>\n",
       "  </thead>\n",
       "  <tbody>\n",
       "    <tr>\n",
       "      <th>1636</th>\n",
       "      <td>2b48b9a8b0fa7618554f238aca7ebd885af0ec95d3c9d9...</td>\n",
       "      <td>3.990041</td>\n",
       "      <td>0</td>\n",
       "      <td>0</td>\n",
       "      <td>0</td>\n",
       "      <td>0</td>\n",
       "      <td>4.0</td>\n",
       "      <td>0.25</td>\n",
       "    </tr>\n",
       "    <tr>\n",
       "      <th>2256</th>\n",
       "      <td>3f55177d5085be77e0db40f3fef5d97ed9b5d1f16c6fda...</td>\n",
       "      <td>4.328549</td>\n",
       "      <td>0</td>\n",
       "      <td>0</td>\n",
       "      <td>0</td>\n",
       "      <td>0</td>\n",
       "      <td>0.0</td>\n",
       "      <td>0.25</td>\n",
       "    </tr>\n",
       "    <tr>\n",
       "      <th>3063</th>\n",
       "      <td>5db93baa0b22e323afc69456fb1c33ea94c7514feb0903...</td>\n",
       "      <td>3.518342</td>\n",
       "      <td>0</td>\n",
       "      <td>0</td>\n",
       "      <td>0</td>\n",
       "      <td>0</td>\n",
       "      <td>0.0</td>\n",
       "      <td>0.25</td>\n",
       "    </tr>\n",
       "    <tr>\n",
       "      <th>3542</th>\n",
       "      <td>4972dfaa1a5386153a8ce48f7e299813910bbc1d71d593...</td>\n",
       "      <td>2.560595</td>\n",
       "      <td>0</td>\n",
       "      <td>0</td>\n",
       "      <td>0</td>\n",
       "      <td>0</td>\n",
       "      <td>1.0</td>\n",
       "      <td>0.25</td>\n",
       "    </tr>\n",
       "    <tr>\n",
       "      <th>3935</th>\n",
       "      <td>2f1be96dc9ddec1378cd12bf2210d711cf23c1af3ff0a5...</td>\n",
       "      <td>4.318776</td>\n",
       "      <td>0</td>\n",
       "      <td>0</td>\n",
       "      <td>0</td>\n",
       "      <td>0</td>\n",
       "      <td>0.0</td>\n",
       "      <td>0.25</td>\n",
       "    </tr>\n",
       "    <tr>\n",
       "      <th>4148</th>\n",
       "      <td>7ab73ff321d56682e9b810470739bd982930bfc3381015...</td>\n",
       "      <td>4.332882</td>\n",
       "      <td>0</td>\n",
       "      <td>0</td>\n",
       "      <td>0</td>\n",
       "      <td>0</td>\n",
       "      <td>2.0</td>\n",
       "      <td>0.25</td>\n",
       "    </tr>\n",
       "    <tr>\n",
       "      <th>6144</th>\n",
       "      <td>597a8103e5cc54275e3d1625e4cccab7809c26af8c4c69...</td>\n",
       "      <td>3.987436</td>\n",
       "      <td>0</td>\n",
       "      <td>0</td>\n",
       "      <td>0</td>\n",
       "      <td>0</td>\n",
       "      <td>0.0</td>\n",
       "      <td>0.25</td>\n",
       "    </tr>\n",
       "    <tr>\n",
       "      <th>6302</th>\n",
       "      <td>8f91de8ebad1d53bf0f38663e52d43257b17de7df53f1c...</td>\n",
       "      <td>4.325582</td>\n",
       "      <td>0</td>\n",
       "      <td>0</td>\n",
       "      <td>0</td>\n",
       "      <td>0</td>\n",
       "      <td>2.0</td>\n",
       "      <td>0.25</td>\n",
       "    </tr>\n",
       "    <tr>\n",
       "      <th>8296</th>\n",
       "      <td>a3424e5820364bea5c9faaca8a465b0d32080f78d90639...</td>\n",
       "      <td>2.994159</td>\n",
       "      <td>0</td>\n",
       "      <td>0</td>\n",
       "      <td>0</td>\n",
       "      <td>0</td>\n",
       "      <td>0.0</td>\n",
       "      <td>0.25</td>\n",
       "    </tr>\n",
       "    <tr>\n",
       "      <th>8393</th>\n",
       "      <td>ba6da8eb9c21bd28aab4615f6fa900e1aef5d6dfdb4e86...</td>\n",
       "      <td>3.765327</td>\n",
       "      <td>0</td>\n",
       "      <td>0</td>\n",
       "      <td>0</td>\n",
       "      <td>0</td>\n",
       "      <td>0.0</td>\n",
       "      <td>0.25</td>\n",
       "    </tr>\n",
       "    <tr>\n",
       "      <th>8942</th>\n",
       "      <td>202709765d7f241363aa5fb8f11edc6044ca94e68ab30a...</td>\n",
       "      <td>4.197219</td>\n",
       "      <td>0</td>\n",
       "      <td>0</td>\n",
       "      <td>0</td>\n",
       "      <td>0</td>\n",
       "      <td>NaN</td>\n",
       "      <td>0.25</td>\n",
       "    </tr>\n",
       "    <tr>\n",
       "      <th>8974</th>\n",
       "      <td>1d6bd1141542373265ebc6d9ce2362a7523868d3919d9e...</td>\n",
       "      <td>2.667346</td>\n",
       "      <td>0</td>\n",
       "      <td>0</td>\n",
       "      <td>0</td>\n",
       "      <td>0</td>\n",
       "      <td>0.0</td>\n",
       "      <td>0.25</td>\n",
       "    </tr>\n",
       "    <tr>\n",
       "      <th>11425</th>\n",
       "      <td>b255acf717b30c806f5ee58aa15afe7f36fe5123f37519...</td>\n",
       "      <td>3.865684</td>\n",
       "      <td>0</td>\n",
       "      <td>0</td>\n",
       "      <td>0</td>\n",
       "      <td>0</td>\n",
       "      <td>0.0</td>\n",
       "      <td>0.25</td>\n",
       "    </tr>\n",
       "    <tr>\n",
       "      <th>12645</th>\n",
       "      <td>c53cfe55e6f6939ced3f325df99cb91e4a908e25472e48...</td>\n",
       "      <td>4.142384</td>\n",
       "      <td>0</td>\n",
       "      <td>0</td>\n",
       "      <td>0</td>\n",
       "      <td>0</td>\n",
       "      <td>0.0</td>\n",
       "      <td>0.25</td>\n",
       "    </tr>\n",
       "    <tr>\n",
       "      <th>12913</th>\n",
       "      <td>6cf315d5fa41cad40f3ef0c8a2441cc04cab9d3b77ecff...</td>\n",
       "      <td>4.339017</td>\n",
       "      <td>0</td>\n",
       "      <td>0</td>\n",
       "      <td>0</td>\n",
       "      <td>0</td>\n",
       "      <td>0.0</td>\n",
       "      <td>0.25</td>\n",
       "    </tr>\n",
       "    <tr>\n",
       "      <th>14291</th>\n",
       "      <td>036d7a3d9f958a2709476e79a6a252ef77b3c943e4cb38...</td>\n",
       "      <td>3.316754</td>\n",
       "      <td>0</td>\n",
       "      <td>0</td>\n",
       "      <td>0</td>\n",
       "      <td>0</td>\n",
       "      <td>1.0</td>\n",
       "      <td>0.25</td>\n",
       "    </tr>\n",
       "    <tr>\n",
       "      <th>14754</th>\n",
       "      <td>abcb97c5fec91ec4873f06e62f2f357b8b1502d2ff5570...</td>\n",
       "      <td>3.876630</td>\n",
       "      <td>0</td>\n",
       "      <td>0</td>\n",
       "      <td>0</td>\n",
       "      <td>0</td>\n",
       "      <td>2.0</td>\n",
       "      <td>0.25</td>\n",
       "    </tr>\n",
       "    <tr>\n",
       "      <th>15377</th>\n",
       "      <td>f17d99ac3edec41abe43890c2300f87e2dbe6d8f82c434...</td>\n",
       "      <td>3.764528</td>\n",
       "      <td>0</td>\n",
       "      <td>0</td>\n",
       "      <td>0</td>\n",
       "      <td>0</td>\n",
       "      <td>4.0</td>\n",
       "      <td>0.25</td>\n",
       "    </tr>\n",
       "    <tr>\n",
       "      <th>15645</th>\n",
       "      <td>4af7072bec6a36f82c94796104e5e4c2d1914895f1aaec...</td>\n",
       "      <td>2.118643</td>\n",
       "      <td>0</td>\n",
       "      <td>0</td>\n",
       "      <td>0</td>\n",
       "      <td>0</td>\n",
       "      <td>1.0</td>\n",
       "      <td>0.25</td>\n",
       "    </tr>\n",
       "    <tr>\n",
       "      <th>16345</th>\n",
       "      <td>9ecccf1c26e43ca90cf997dc0ecd3e1ef6f3405a8bc465...</td>\n",
       "      <td>2.960627</td>\n",
       "      <td>0</td>\n",
       "      <td>0</td>\n",
       "      <td>0</td>\n",
       "      <td>0</td>\n",
       "      <td>NaN</td>\n",
       "      <td>0.25</td>\n",
       "    </tr>\n",
       "    <tr>\n",
       "      <th>17580</th>\n",
       "      <td>69b9851d1124825593f29530e7ab8d77c4c99d69ac0d36...</td>\n",
       "      <td>1.472889</td>\n",
       "      <td>0</td>\n",
       "      <td>0</td>\n",
       "      <td>0</td>\n",
       "      <td>0</td>\n",
       "      <td>1.0</td>\n",
       "      <td>0.25</td>\n",
       "    </tr>\n",
       "    <tr>\n",
       "      <th>17611</th>\n",
       "      <td>ffbf4067ed1038d145aad7212edcbb8fce3ce9c394bff5...</td>\n",
       "      <td>3.523812</td>\n",
       "      <td>0</td>\n",
       "      <td>0</td>\n",
       "      <td>0</td>\n",
       "      <td>0</td>\n",
       "      <td>2.0</td>\n",
       "      <td>0.25</td>\n",
       "    </tr>\n",
       "    <tr>\n",
       "      <th>17936</th>\n",
       "      <td>dac379f529dd126cbc2642f9169ebf3cde55cc68f93aee...</td>\n",
       "      <td>3.790678</td>\n",
       "      <td>0</td>\n",
       "      <td>0</td>\n",
       "      <td>0</td>\n",
       "      <td>0</td>\n",
       "      <td>NaN</td>\n",
       "      <td>0.25</td>\n",
       "    </tr>\n",
       "    <tr>\n",
       "      <th>19044</th>\n",
       "      <td>51f290d728736dab6580164a44e9b30acad910ee59ea86...</td>\n",
       "      <td>3.197058</td>\n",
       "      <td>0</td>\n",
       "      <td>0</td>\n",
       "      <td>0</td>\n",
       "      <td>0</td>\n",
       "      <td>0.0</td>\n",
       "      <td>0.25</td>\n",
       "    </tr>\n",
       "    <tr>\n",
       "      <th>19468</th>\n",
       "      <td>d66450c66e09a5efc7eed9869dbceadbee3aaca4cbd55e...</td>\n",
       "      <td>3.995206</td>\n",
       "      <td>0</td>\n",
       "      <td>0</td>\n",
       "      <td>0</td>\n",
       "      <td>0</td>\n",
       "      <td>1.0</td>\n",
       "      <td>0.25</td>\n",
       "    </tr>\n",
       "    <tr>\n",
       "      <th>19570</th>\n",
       "      <td>a0aea695f7d2b14656c02256cfbd40420ef1134419d9e6...</td>\n",
       "      <td>4.015226</td>\n",
       "      <td>0</td>\n",
       "      <td>0</td>\n",
       "      <td>0</td>\n",
       "      <td>0</td>\n",
       "      <td>1.0</td>\n",
       "      <td>0.25</td>\n",
       "    </tr>\n",
       "    <tr>\n",
       "      <th>19977</th>\n",
       "      <td>dd676c6b0627a5beb28dcb4b33c4b6449534ac04f8ccc0...</td>\n",
       "      <td>2.081144</td>\n",
       "      <td>0</td>\n",
       "      <td>0</td>\n",
       "      <td>0</td>\n",
       "      <td>0</td>\n",
       "      <td>0.0</td>\n",
       "      <td>0.25</td>\n",
       "    </tr>\n",
       "    <tr>\n",
       "      <th>23278</th>\n",
       "      <td>77efa77ce1e31cf5bd01a9adfc8f94df8e2ab7167b4210...</td>\n",
       "      <td>3.553820</td>\n",
       "      <td>0</td>\n",
       "      <td>0</td>\n",
       "      <td>0</td>\n",
       "      <td>0</td>\n",
       "      <td>NaN</td>\n",
       "      <td>0.25</td>\n",
       "    </tr>\n",
       "    <tr>\n",
       "      <th>23887</th>\n",
       "      <td>6f519c38cac0837fe5cccde5fee0cfdc2353ee942eb21b...</td>\n",
       "      <td>2.502957</td>\n",
       "      <td>0</td>\n",
       "      <td>0</td>\n",
       "      <td>0</td>\n",
       "      <td>0</td>\n",
       "      <td>0.0</td>\n",
       "      <td>0.25</td>\n",
       "    </tr>\n",
       "    <tr>\n",
       "      <th>24103</th>\n",
       "      <td>d5abd1d1247046ccccc5b290c85bc8c7f747e4c59a4428...</td>\n",
       "      <td>3.585925</td>\n",
       "      <td>0</td>\n",
       "      <td>0</td>\n",
       "      <td>0</td>\n",
       "      <td>0</td>\n",
       "      <td>NaN</td>\n",
       "      <td>0.25</td>\n",
       "    </tr>\n",
       "    <tr>\n",
       "      <th>26760</th>\n",
       "      <td>3bce23e39c0aa91a8d808c373a9b1f35258f9f8e3b1bfb...</td>\n",
       "      <td>4.124845</td>\n",
       "      <td>0</td>\n",
       "      <td>0</td>\n",
       "      <td>0</td>\n",
       "      <td>0</td>\n",
       "      <td>0.0</td>\n",
       "      <td>0.25</td>\n",
       "    </tr>\n",
       "    <tr>\n",
       "      <th>26955</th>\n",
       "      <td>496df2a39a5a555337f69c85e973d17d702d8c92fecd0b...</td>\n",
       "      <td>2.370960</td>\n",
       "      <td>0</td>\n",
       "      <td>0</td>\n",
       "      <td>0</td>\n",
       "      <td>0</td>\n",
       "      <td>1.0</td>\n",
       "      <td>0.25</td>\n",
       "    </tr>\n",
       "  </tbody>\n",
       "</table>\n",
       "</div>"
      ],
      "text/plain": [
       "                                                  sha256   entropy  \\\n",
       "1636   2b48b9a8b0fa7618554f238aca7ebd885af0ec95d3c9d9...  3.990041   \n",
       "2256   3f55177d5085be77e0db40f3fef5d97ed9b5d1f16c6fda...  4.328549   \n",
       "3063   5db93baa0b22e323afc69456fb1c33ea94c7514feb0903...  3.518342   \n",
       "3542   4972dfaa1a5386153a8ce48f7e299813910bbc1d71d593...  2.560595   \n",
       "3935   2f1be96dc9ddec1378cd12bf2210d711cf23c1af3ff0a5...  4.318776   \n",
       "4148   7ab73ff321d56682e9b810470739bd982930bfc3381015...  4.332882   \n",
       "6144   597a8103e5cc54275e3d1625e4cccab7809c26af8c4c69...  3.987436   \n",
       "6302   8f91de8ebad1d53bf0f38663e52d43257b17de7df53f1c...  4.325582   \n",
       "8296   a3424e5820364bea5c9faaca8a465b0d32080f78d90639...  2.994159   \n",
       "8393   ba6da8eb9c21bd28aab4615f6fa900e1aef5d6dfdb4e86...  3.765327   \n",
       "8942   202709765d7f241363aa5fb8f11edc6044ca94e68ab30a...  4.197219   \n",
       "8974   1d6bd1141542373265ebc6d9ce2362a7523868d3919d9e...  2.667346   \n",
       "11425  b255acf717b30c806f5ee58aa15afe7f36fe5123f37519...  3.865684   \n",
       "12645  c53cfe55e6f6939ced3f325df99cb91e4a908e25472e48...  4.142384   \n",
       "12913  6cf315d5fa41cad40f3ef0c8a2441cc04cab9d3b77ecff...  4.339017   \n",
       "14291  036d7a3d9f958a2709476e79a6a252ef77b3c943e4cb38...  3.316754   \n",
       "14754  abcb97c5fec91ec4873f06e62f2f357b8b1502d2ff5570...  3.876630   \n",
       "15377  f17d99ac3edec41abe43890c2300f87e2dbe6d8f82c434...  3.764528   \n",
       "15645  4af7072bec6a36f82c94796104e5e4c2d1914895f1aaec...  2.118643   \n",
       "16345  9ecccf1c26e43ca90cf997dc0ecd3e1ef6f3405a8bc465...  2.960627   \n",
       "17580  69b9851d1124825593f29530e7ab8d77c4c99d69ac0d36...  1.472889   \n",
       "17611  ffbf4067ed1038d145aad7212edcbb8fce3ce9c394bff5...  3.523812   \n",
       "17936  dac379f529dd126cbc2642f9169ebf3cde55cc68f93aee...  3.790678   \n",
       "19044  51f290d728736dab6580164a44e9b30acad910ee59ea86...  3.197058   \n",
       "19468  d66450c66e09a5efc7eed9869dbceadbee3aaca4cbd55e...  3.995206   \n",
       "19570  a0aea695f7d2b14656c02256cfbd40420ef1134419d9e6...  4.015226   \n",
       "19977  dd676c6b0627a5beb28dcb4b33c4b6449534ac04f8ccc0...  2.081144   \n",
       "23278  77efa77ce1e31cf5bd01a9adfc8f94df8e2ab7167b4210...  3.553820   \n",
       "23887  6f519c38cac0837fe5cccde5fee0cfdc2353ee942eb21b...  2.502957   \n",
       "24103  d5abd1d1247046ccccc5b290c85bc8c7f747e4c59a4428...  3.585925   \n",
       "26760  3bce23e39c0aa91a8d808c373a9b1f35258f9f8e3b1bfb...  4.124845   \n",
       "26955  496df2a39a5a555337f69c85e973d17d702d8c92fecd0b...  2.370960   \n",
       "\n",
       "       encryption  packer  suspicious imports  unknown imports  vt hits  \\\n",
       "1636            0       0                   0                0      4.0   \n",
       "2256            0       0                   0                0      0.0   \n",
       "3063            0       0                   0                0      0.0   \n",
       "3542            0       0                   0                0      1.0   \n",
       "3935            0       0                   0                0      0.0   \n",
       "4148            0       0                   0                0      2.0   \n",
       "6144            0       0                   0                0      0.0   \n",
       "6302            0       0                   0                0      2.0   \n",
       "8296            0       0                   0                0      0.0   \n",
       "8393            0       0                   0                0      0.0   \n",
       "8942            0       0                   0                0      NaN   \n",
       "8974            0       0                   0                0      0.0   \n",
       "11425           0       0                   0                0      0.0   \n",
       "12645           0       0                   0                0      0.0   \n",
       "12913           0       0                   0                0      0.0   \n",
       "14291           0       0                   0                0      1.0   \n",
       "14754           0       0                   0                0      2.0   \n",
       "15377           0       0                   0                0      4.0   \n",
       "15645           0       0                   0                0      1.0   \n",
       "16345           0       0                   0                0      NaN   \n",
       "17580           0       0                   0                0      1.0   \n",
       "17611           0       0                   0                0      2.0   \n",
       "17936           0       0                   0                0      NaN   \n",
       "19044           0       0                   0                0      0.0   \n",
       "19468           0       0                   0                0      1.0   \n",
       "19570           0       0                   0                0      1.0   \n",
       "19977           0       0                   0                0      0.0   \n",
       "23278           0       0                   0                0      NaN   \n",
       "23887           0       0                   0                0      0.0   \n",
       "24103           0       0                   0                0      NaN   \n",
       "26760           0       0                   0                0      0.0   \n",
       "26955           0       0                   0                0      1.0   \n",
       "\n",
       "       S(Sample)  \n",
       "1636        0.25  \n",
       "2256        0.25  \n",
       "3063        0.25  \n",
       "3542        0.25  \n",
       "3935        0.25  \n",
       "4148        0.25  \n",
       "6144        0.25  \n",
       "6302        0.25  \n",
       "8296        0.25  \n",
       "8393        0.25  \n",
       "8942        0.25  \n",
       "8974        0.25  \n",
       "11425       0.25  \n",
       "12645       0.25  \n",
       "12913       0.25  \n",
       "14291       0.25  \n",
       "14754       0.25  \n",
       "15377       0.25  \n",
       "15645       0.25  \n",
       "16345       0.25  \n",
       "17580       0.25  \n",
       "17611       0.25  \n",
       "17936       0.25  \n",
       "19044       0.25  \n",
       "19468       0.25  \n",
       "19570       0.25  \n",
       "19977       0.25  \n",
       "23278       0.25  \n",
       "23887       0.25  \n",
       "24103       0.25  \n",
       "26760       0.25  \n",
       "26955       0.25  "
      ]
     },
     "execution_count": 18,
     "metadata": {},
     "output_type": "execute_result"
    }
   ],
   "source": [
    "df[(df['S(Sample)']==0.250000)]"
   ]
  },
  {
   "cell_type": "code",
   "execution_count": 19,
   "metadata": {},
   "outputs": [
    {
     "data": {
      "text/html": [
       "<div>\n",
       "<style scoped>\n",
       "    .dataframe tbody tr th:only-of-type {\n",
       "        vertical-align: middle;\n",
       "    }\n",
       "\n",
       "    .dataframe tbody tr th {\n",
       "        vertical-align: top;\n",
       "    }\n",
       "\n",
       "    .dataframe thead th {\n",
       "        text-align: right;\n",
       "    }\n",
       "</style>\n",
       "<table border=\"1\" class=\"dataframe\">\n",
       "  <thead>\n",
       "    <tr style=\"text-align: right;\">\n",
       "      <th></th>\n",
       "      <th>sha256</th>\n",
       "      <th>entropy</th>\n",
       "      <th>encryption</th>\n",
       "      <th>packer</th>\n",
       "      <th>suspicious imports</th>\n",
       "      <th>unknown imports</th>\n",
       "      <th>vt hits</th>\n",
       "      <th>S(Sample)</th>\n",
       "    </tr>\n",
       "  </thead>\n",
       "  <tbody>\n",
       "    <tr>\n",
       "      <th>6672</th>\n",
       "      <td>0e4268886b51126b9d35ce9c046d2d285e5c294c9bd850...</td>\n",
       "      <td>6.226325</td>\n",
       "      <td>1</td>\n",
       "      <td>1</td>\n",
       "      <td>54</td>\n",
       "      <td>1</td>\n",
       "      <td>0.0</td>\n",
       "      <td>6.242447</td>\n",
       "    </tr>\n",
       "  </tbody>\n",
       "</table>\n",
       "</div>"
      ],
      "text/plain": [
       "                                                 sha256   entropy  encryption  \\\n",
       "6672  0e4268886b51126b9d35ce9c046d2d285e5c294c9bd850...  6.226325           1   \n",
       "\n",
       "      packer  suspicious imports  unknown imports  vt hits  S(Sample)  \n",
       "6672       1                  54                1      0.0   6.242447  "
      ]
     },
     "execution_count": 19,
     "metadata": {},
     "output_type": "execute_result"
    }
   ],
   "source": [
    "df[(df['S(Sample)']>6.24)]"
   ]
  },
  {
   "cell_type": "code",
   "execution_count": 20,
   "metadata": {},
   "outputs": [
    {
     "name": "stdout",
     "output_type": "stream",
     "text": [
      "\\no & \\no & \\no & 1180 & 1.37 \\\\\n",
      "\\no & \\no & \\yes & 6998 & 2.27 \\\\\n",
      "\\no & \\yes & \\no & 1699 & 2.35 \\\\\n",
      "\\no & \\yes & \\yes & 12126 & 3.46 \\\\\n",
      "\\yes & \\no & \\no & 7 & 2.22 \\\\\n",
      "\\yes & \\no & \\yes & 267 & 3.26 \\\\\n",
      "\\yes & \\yes & \\no & 47 & 3.55 \\\\\n",
      "\\yes & \\yes & \\yes & 721 & 4.51 \\\\\n"
     ]
    }
   ],
   "source": [
    "#genrate data for latex table ()\n",
    "data=df\n",
    "\n",
    "print ('\\\\no & \\\\no & \\\\no & %d & %.2f \\\\\\\\'%(data.loc[(data['unknown imports']==0) & (data['encryption']==0) & (data['packer']==0)].count()['S(Sample)'],data.loc[(data['unknown imports']==0) & (data['encryption']==0) & (data['packer']==0)].mean()['S(Sample)']))\n",
    "print ('\\\\no & \\\\no & \\\\yes & %d & %.2f \\\\\\\\'%(data.loc[(data['unknown imports']==0) & (data['encryption']==0) & (data['packer']==1)].count()['S(Sample)'],data.loc[(data['unknown imports']==0) & (data['encryption']==0) & (data['packer']==1)].mean()['S(Sample)']))\n",
    "print ('\\\\no & \\\\yes & \\\\no & %d & %.2f \\\\\\\\'%(data.loc[(data['unknown imports']==0) & (data['encryption']==1) & (data['packer']==0)].count()['S(Sample)'],data.loc[(data['unknown imports']==0) & (data['encryption']==1) & (data['packer']==0)].mean()['S(Sample)']))\n",
    "print ('\\\\no & \\\\yes & \\\\yes & %d & %.2f \\\\\\\\'%(data.loc[(data['unknown imports']==0) & (data['encryption']==1) & (data['packer']==1)].count()['S(Sample)'],data.loc[(data['unknown imports']==0) & (data['encryption']==1) & (data['packer']==1)].mean()['S(Sample)']))\n",
    "print ('\\\\yes & \\\\no & \\\\no & %d & %.2f \\\\\\\\'%(data.loc[(data['unknown imports']==1) & (data['encryption']==0) & (data['packer']==0)].count()['S(Sample)'],data.loc[(data['unknown imports']==1) & (data['encryption']==0) & (data['packer']==0)].mean()['S(Sample)']))\n",
    "print ('\\\\yes & \\\\no & \\\\yes & %d & %.2f \\\\\\\\'%(data.loc[(data['unknown imports']==1) & (data['encryption']==0) & (data['packer']==1)].count()['S(Sample)'],data.loc[(data['unknown imports']==1) & (data['encryption']==0) & (data['packer']==1)].mean()['S(Sample)']))\n",
    "print ('\\\\yes & \\\\yes & \\\\no & %d & %.2f \\\\\\\\'%(data.loc[(data['unknown imports']==1) & (data['encryption']==1) & (data['packer']==0)].count()['S(Sample)'],data.loc[(data['unknown imports']==1) & (data['encryption']==1) & (data['packer']==0)].mean()['S(Sample)']))\n",
    "print ('\\\\yes & \\\\yes & \\\\yes & %d & %.2f \\\\\\\\'%(data.loc[(data['unknown imports']==1) & (data['encryption']==1) & (data['packer']==1)].count()['S(Sample)'],data.loc[(data['unknown imports']==1) & (data['encryption']==1) & (data['packer']==1)].mean()['S(Sample)']))"
   ]
  },
  {
   "cell_type": "code",
   "execution_count": 21,
   "metadata": {},
   "outputs": [
    {
     "name": "stderr",
     "output_type": "stream",
     "text": [
      "<ipython-input-21-aeb75a51c8c0>:1: FutureWarning: Passing a negative integer is deprecated in version 1.0 and will not be supported in future version. Instead, use None to not limit the column width.\n",
      "  pd.set_option('display.max_colwidth', -1)\n"
     ]
    },
    {
     "data": {
      "text/plain": [
       "16748    0305331a319e1a212861c02700f0eb306737b285b543bf5874f38b64b14244cb\n",
       "5733     0515e44999cde9023e382280f936a84a0510f7718df04db60b485cf98549fe11\n",
       "8517     476d2cf72bebec4d0f76011f2757729fb6a87dee046cba0f299f46e1fb382ca3\n",
       "5788     e1e9b58517db28ff5fcdbbd1e7bc7817e255052ef19dffb97fe00dcbebd95e04\n",
       "4260     3b1d3c0aef679d0e25dee3f2508cab4aa5631fb0660f015c03a664f9df35b4f0\n",
       "19318    3ec197e36d7dc8da47a9773be4c01222bf340f167576baa0817e867727d45cf8\n",
       "13836    b16485ea8d9e780a77e5c9a760947fbe83dd056c806b249f047a7ce8d2280397\n",
       "680      c50162739c04a60add73609ee1930584cde420f929fa5993989ec9f63bd50baa\n",
       "20232    b613c7154ba9a7bdb7ed80fbcf206d9aa92c72733af7d977c4ceef70929af59b\n",
       "20276    e331a4d18ef9abafcfa3feefd6455bb3d8e44e828501dd93810b0e8f369bf2b2\n",
       "20656    cbdf84a404519d344731e7cd06c0f03fbd71c7311bad83571cc8880ab6d38072\n",
       "13608    71eb9cf51a11ae4fc6719b456b9c1ffb5ca85c147134020fc7b89ad8ff137b8a\n",
       "18285    d8008c48d50f821bdafb075316bd0170004d12b821ef4e50f4d232cab558c741\n",
       "25559    0046bd8ec5ed92d4d94070ea9ef7d88f9e0e2695b5d0566e830991248085e54d\n",
       "10648    17d13200a61873a2931a73cca3759b7f9d0aa92abc6bdfb07cd6d36bf72af003\n",
       "10691    9b4723577d1c18a3fc1e14484438158eee78550d2018dea2559012ed671b9c2e\n",
       "11955    ed9781cdb871df2d8476cfaf14a80a352da12ca0f3ee042a491a65b58f102134\n",
       "19315    c9c0abe34714034c6e0e0ad93865586bc5994a8e7c82c57c49db124e9b2acaf4\n",
       "19791    ea2527ce271a5493b73295b2e8573504f63006dceaefae2b4396c5cf8bdf1f73\n",
       "19939    9b80a6fdc4693bd3fedfd7204f620b2b340818561f41d5013ccfe63e6ffe9c1f\n",
       "16636    83ab1c156aece9bd9c02097d7dfcaec0b7897be20916e217ee5fca838d2827bd\n",
       "6460     f124b997ba0e5523df4f217d22c667270265fac343379c281bcb4f7461bfa2d4\n",
       "8051     8cf8f543e417bc299e393f1797cf38edb37d4679afc8d1e2d200fe522683e6b1\n",
       "16463    085205b8cffbe699f134d6359e0d532444e0feac90ef2b29d76de66abc384c18\n",
       "17346    d486fc6cc3706d062b0aa2e13bbdcf381958d7ebf0409c8e0bfef841cfe14b1b\n",
       "12599    2d90ff1cc18e06ac9eb074e96e770fdfd4af5dcbfd67bd3f50ae983c4ce929b7\n",
       "22998    08c54e4bb6b1b2092f6996ddaac974e43af07a23954b2bbecdbcef72444d8aa3\n",
       "13400    e5045e98f0eb227f2873846ae7968fa87874b3a667093414116cb5e3a33af0a2\n",
       "25062    57b0d46bb3b616208bec487e062ccfdc0768ec1e2867eb306717b7e565a1c5e3\n",
       "18819    38f46ffcb703e951f0c44c77e97676b2c5d316e84ae41112ed1ab2cd54cee420\n",
       "Name: sha256, dtype: object"
      ]
     },
     "execution_count": 21,
     "metadata": {},
     "output_type": "execute_result"
    }
   ],
   "source": [
    "pd.set_option('display.max_colwidth', -1)\n",
    "df[(df['S(Sample)']>4)].sample(30)['sha256']"
   ]
  },
  {
   "cell_type": "code",
   "execution_count": 22,
   "metadata": {},
   "outputs": [
    {
     "name": "stderr",
     "output_type": "stream",
     "text": [
      "<ipython-input-22-836f97bd7af7>:1: FutureWarning: Passing a negative integer is deprecated in version 1.0 and will not be supported in future version. Instead, use None to not limit the column width.\n",
      "  pd.set_option('display.max_colwidth', -1)\n"
     ]
    },
    {
     "data": {
      "text/plain": [
       "21376    014b68b8bdc7c210187e967066cf647e71c6e3c1e785e31f02fe8350343cd94b\n",
       "17101    2702185f623dc1401e4faeee3cb6588f04b280c8fcaf44ff79fe4e83c51849f4\n",
       "15033    0b4d364c510fdf7ba281e3868de98e36beaac3957340c9b65da9d31b8297e69f\n",
       "19025    a744e596f2082dd513f8ddb9d11b23f2ab69a27ce76ee52b14a97a7304370b77\n",
       "25867    dafa6670a98396c39da04c18aa3db761b925c70b3967e8bf3d4c3d795a5a7ef3\n",
       "18635    ba5ac6a20fa55b6b4f48d4919beb7031c0367df1058677d88ddc9398cd6982dc\n",
       "12966    6ee0c20b5caa25408f254bf926242aba301bed7491495faaf8b5efe8e1be92a7\n",
       "9157     b6b520b2d2e23a506a132299fd5fdde5d5f0d45c6c7fbd49a42e90d5f4dfca4f\n",
       "2927     53bb815d176f18e0f8f7a7eefa2712ab6901fb70b7bb3151a02ad162c935267b\n",
       "5248     0d8d06c0be7c790fc87a80dc0eaeca72fb35931c20a31921f77e4108213a2e2a\n",
       "19933    83a94349266b5cea66066e292bdd2386599a937e03383303886248220b61246f\n",
       "4657     241057c62400c5988314d890d5611928ec13db7fb286572df8a62e57ffbb76ce\n",
       "23146    d8c92e0cc24b96a6a0c101ab672f435ff2afa9e729725d554cc97661a389a76f\n",
       "22992    b9a807df1d02e608bb5cb8876d3899881256c89b2e5cd48c2bdc2091fac0747d\n",
       "2052     4ed2528119a54ba8b888fd6896bd4ba689b19b7e4a862f7aa4df5e00ae4815a5\n",
       "15239    8abc5a20456f4fe309d3f7bcf93853cc19d68322add92aa563132f65fe74f80c\n",
       "19779    4649efa092a14af2cafa3d10e69803feb1cd570c5aa93811044a0a9e925b003f\n",
       "1219     38f6e8a01d7f91bfa3fd3635d4842d8cd0d1870fb9743ed1eed03a48c02f4b27\n",
       "4539     5adaa4d0cf55840fb9442c45bc09fb4eb9d073315f18bbdf0bfabc1d2862d15e\n",
       "8208     55bd19d2f8e553299c89b39a2d360150736dce077271536cd4c116538c54ab0e\n",
       "20230    784cfee0992978ec3f6bd6ee1631cb3ab055d3b3f5367079426ef2adbd808e66\n",
       "16198    f781fbb2295b76a940703e3a31e1beab01f99fddacfab7f8ba6e165bc17686e5\n",
       "19665    75fc880538b51d8c47fd6bcfb4b59d2b97485a308acce8e1d28996d3cbc15590\n",
       "4950     ef694db8056615bf8389e9eaa595416afb2b2f824828b449fbde0dd9f2c7fafb\n",
       "14769    dbf22c5d659191d1aa34a188eb5c4dcebe18dab7977342803e307809c017f76a\n",
       "15760    f4022db482ded86c3d4103f042b12d06503d332fd5931f00f296861e67516627\n",
       "19054    53da7211c25ada7bf3fb5960acceba0f562a5189c31b5b418005c9e0c075bfd8\n",
       "15611    a974884f565125579a9b7300d435513a8f118eb475b01f33be031824603a3e32\n",
       "18565    0ddb61ecefd1dcc6f36329eb152250dce80f2ff091dbe0191976535a8581757f\n",
       "19681    ee8d8fc97c492da90c93c6e75cda70c09bec198a92e606117c79f5398bcce29f\n",
       "Name: sha256, dtype: object"
      ]
     },
     "execution_count": 22,
     "metadata": {},
     "output_type": "execute_result"
    }
   ],
   "source": [
    "pd.set_option('display.max_colwidth', -1)\n",
    "df[(df['S(Sample)']>5)].sample(30)['sha256']"
   ]
  },
  {
   "cell_type": "code",
   "execution_count": 23,
   "metadata": {},
   "outputs": [
    {
     "data": {
      "text/html": [
       "<div>\n",
       "<style scoped>\n",
       "    .dataframe tbody tr th:only-of-type {\n",
       "        vertical-align: middle;\n",
       "    }\n",
       "\n",
       "    .dataframe tbody tr th {\n",
       "        vertical-align: top;\n",
       "    }\n",
       "\n",
       "    .dataframe thead th {\n",
       "        text-align: right;\n",
       "    }\n",
       "</style>\n",
       "<table border=\"1\" class=\"dataframe\">\n",
       "  <thead>\n",
       "    <tr style=\"text-align: right;\">\n",
       "      <th></th>\n",
       "      <th>sha256</th>\n",
       "      <th>entropy</th>\n",
       "      <th>encryption</th>\n",
       "      <th>packer</th>\n",
       "      <th>suspicious imports</th>\n",
       "      <th>unknown imports</th>\n",
       "      <th>vt hits</th>\n",
       "      <th>S(Sample)</th>\n",
       "    </tr>\n",
       "  </thead>\n",
       "  <tbody>\n",
       "    <tr>\n",
       "      <th>6672</th>\n",
       "      <td>0e4268886b51126b9d35ce9c046d2d285e5c294c9bd85032f5670dc8570d8f48</td>\n",
       "      <td>6.226325</td>\n",
       "      <td>1</td>\n",
       "      <td>1</td>\n",
       "      <td>54</td>\n",
       "      <td>1</td>\n",
       "      <td>0.0</td>\n",
       "      <td>6.242447</td>\n",
       "    </tr>\n",
       "  </tbody>\n",
       "</table>\n",
       "</div>"
      ],
      "text/plain": [
       "                                                                sha256  \\\n",
       "6672  0e4268886b51126b9d35ce9c046d2d285e5c294c9bd85032f5670dc8570d8f48   \n",
       "\n",
       "       entropy  encryption  packer  suspicious imports  unknown imports  \\\n",
       "6672  6.226325  1           1       54                  1                 \n",
       "\n",
       "      vt hits  S(Sample)  \n",
       "6672  0.0      6.242447   "
      ]
     },
     "execution_count": 23,
     "metadata": {},
     "output_type": "execute_result"
    }
   ],
   "source": [
    "df[(df['S(Sample)']>6.24)]"
   ]
  },
  {
   "cell_type": "code",
   "execution_count": null,
   "metadata": {},
   "outputs": [],
   "source": []
  }
 ],
 "metadata": {
  "kernelspec": {
   "display_name": "Python 3",
   "language": "python",
   "name": "python3"
  },
  "language_info": {
   "codemirror_mode": {
    "name": "ipython",
    "version": 3
   },
   "file_extension": ".py",
   "mimetype": "text/x-python",
   "name": "python",
   "nbconvert_exporter": "python",
   "pygments_lexer": "ipython3",
   "version": "3.8.3"
  }
 },
 "nbformat": 4,
 "nbformat_minor": 4
}
